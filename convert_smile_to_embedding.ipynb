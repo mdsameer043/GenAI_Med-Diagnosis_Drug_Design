{
 "cells": [
  {
   "cell_type": "code",
   "execution_count": 2,
   "metadata": {},
   "outputs": [],
   "source": [
    "from rdkit import Chem, DataStructs\n",
    "from rdkit.Chem import Draw, Descriptors, AllChem\n",
    "from rdkit.Chem.Draw import IPythonConsole\n",
    "\n",
    "from itertools import combinations\n",
    "\n",
    "import IPython\n",
    "from IPython.display import display, Image\n",
    "from PIL import Image\n",
    "\n",
    "import numpy as np\n",
    "import pandas as pd\n",
    "\n",
    "import networkx as nx\n",
    "import seaborn as sns\n",
    "import matplotlib.pyplot as plt"
   ]
  },
  {
   "cell_type": "code",
   "execution_count": 3,
   "metadata": {},
   "outputs": [
    {
     "data": {
      "text/plain": [
       "'O=S(=O)(Nc1cccc(-c2cnc3ccccc3n2)c1)c1cccs1'"
      ]
     },
     "execution_count": 3,
     "metadata": {},
     "output_type": "execute_result"
    }
   ],
   "source": [
    "df = pd.read_csv(\"SMILES_Big_Data_Set.csv\")\n",
    "df[\"SMILES\"][0]"
   ]
  },
  {
   "cell_type": "code",
   "execution_count": 8,
   "metadata": {},
   "outputs": [
    {
     "name": "stdout",
     "output_type": "stream",
     "text": [
      "Atoms: ['O', 'S', 'O', 'N', 'c', 'c', 'c', 'c', 'c', 'c', 'c', 'n', 'c', 'c', 'c', 'c', 'c', 'c', 'n', 'c', 'c', 'c', 'c', 'c', 's']\n",
      "Bonds: [(0, 1), (2, 2), (3, 3), (3, 4), (4, 5), (5, 6), (6, 7), (7, 8), (9, 9), (9, 10), (10, 11), (11, 12), (12, 13), (13, 14), (14, 15), (15, 16), (16, 17), (17, 18), (17, 19), (17, 20), (20, 21), (21, 22), (22, 23), (23, 24)]\n"
     ]
    }
   ],
   "source": [
    "# Define SMILES parsing into atoms and bonds\n",
    "def parse_smiles(smiles):\n",
    "    atoms = []\n",
    "    bonds = []\n",
    "    atom_stack = []\n",
    "    \n",
    "    i = 0\n",
    "    while i < len(smiles):\n",
    "        char = smiles[i]\n",
    "        \n",
    "        if char.isalpha():  # Atom symbol (e.g., C, O, N)\n",
    "            atoms.append(char)\n",
    "            if atom_stack:\n",
    "                bonds.append((atom_stack[-1], len(atoms) - 1))  # Single bond to last atom\n",
    "            atom_stack.append(len(atoms) - 1)  # Add atom index to stack\n",
    "        elif char == '(':  # Branch start (if applicable)\n",
    "            atom_stack.append(len(atoms))  # Start new branch\n",
    "        elif char == ')':  # Branch end (if applicable)\n",
    "            atom_stack.pop()  # Pop last branch\n",
    "        elif char in '-=#':  # Bond types (single, double, triple)\n",
    "            pass  # For simplicity, assume single bond for now\n",
    "        i += 1\n",
    "    \n",
    "    return atoms, bonds\n",
    "\n",
    "smiles = 'O=S(=O)(Nc1cccc(-c2cnc3ccccc3n2)c1)c1cccs1' \n",
    "atoms, bonds = parse_smiles(smiles)\n",
    "\n",
    "print(\"Atoms:\", atoms)\n",
    "print(\"Bonds:\", bonds)\n"
   ]
  },
  {
   "cell_type": "code",
   "execution_count": 17,
   "metadata": {},
   "outputs": [
    {
     "name": "stdout",
     "output_type": "stream",
     "text": [
      "Fingerprint Array: [1, 1, 0, 1, 1, 0, 0, 0, 0, 0, 0, 1, 0, 0, 0, 0, 0, 0, 0, 0, 0, 0, 0, 0, 1, 1, 0, 0, 0, 0, 0, 0, 0, 0, 0, 0, 0, 0, 0, 0, 0, 0, 0, 0, 0, 0, 0, 0, 0, 0, 0, 0, 0, 0, 0, 0, 0, 0, 0, 0, 0, 0, 0, 0, 0, 0, 0, 0, 0, 0, 0, 0, 0, 0, 0]\n"
     ]
    }
   ],
   "source": [
    "def generate_fingerprint(atoms, bonds):\n",
    "    # Define possible atom types for this simple example (C, O, N, H)\n",
    "    atom_types = atoms\n",
    "    bond_types = ['-','=','#']  # Single bonds only for simplicity\n",
    "    fingerprint_length = len(atom_types) * len(bond_types)\n",
    "    \n",
    "    fingerprint = [0] * fingerprint_length  # Initialize a fingerprint array of zeros\n",
    "\n",
    "    # Set bits for atom types present in the molecule\n",
    "    for atom in atoms:\n",
    "        if atom in atom_types:\n",
    "            fingerprint[atom_types.index(atom)] = 1\n",
    "\n",
    "    # Set bits for bond types (simplified for single bonds only)\n",
    "    for bond in bonds:\n",
    "        # In this simple version, we'll only set a bond type bit for a single bond\n",
    "        fingerprint[len(atom_types) + 0] = 1  # Single bond between atoms\n",
    "    \n",
    "    return fingerprint\n",
    "\n",
    "# Generate the fingerprint for the molecule\n",
    "fingerprint = generate_fingerprint(atoms, bonds)\n",
    "\n",
    "print(\"Fingerprint Array:\", fingerprint)\n"
   ]
  },
  {
   "cell_type": "code",
   "execution_count": null,
   "metadata": {},
   "outputs": [],
   "source": []
  },
  {
   "cell_type": "code",
   "execution_count": null,
   "metadata": {},
   "outputs": [],
   "source": []
  },
  {
   "cell_type": "code",
   "execution_count": null,
   "metadata": {},
   "outputs": [],
   "source": []
  },
  {
   "cell_type": "code",
   "execution_count": null,
   "metadata": {},
   "outputs": [],
   "source": []
  },
  {
   "cell_type": "code",
   "execution_count": null,
   "metadata": {},
   "outputs": [],
   "source": []
  },
  {
   "cell_type": "code",
   "execution_count": null,
   "metadata": {},
   "outputs": [],
   "source": []
  },
  {
   "cell_type": "code",
   "execution_count": null,
   "metadata": {},
   "outputs": [],
   "source": []
  },
  {
   "cell_type": "code",
   "execution_count": null,
   "metadata": {},
   "outputs": [],
   "source": []
  }
 ],
 "metadata": {
  "kernelspec": {
   "display_name": "Python 3",
   "language": "python",
   "name": "python3"
  },
  "language_info": {
   "codemirror_mode": {
    "name": "ipython",
    "version": 3
   },
   "file_extension": ".py",
   "mimetype": "text/x-python",
   "name": "python",
   "nbconvert_exporter": "python",
   "pygments_lexer": "ipython3",
   "version": "3.11.3"
  }
 },
 "nbformat": 4,
 "nbformat_minor": 2
}
